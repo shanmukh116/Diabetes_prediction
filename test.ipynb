{
  "nbformat": 4,
  "nbformat_minor": 0,
  "metadata": {
    "colab": {
      "name": "test.ipynb",
      "provenance": [],
      "collapsed_sections": []
    },
    "kernelspec": {
      "name": "python3",
      "display_name": "Python 3"
    }
  },
  "cells": [
    {
      "cell_type": "code",
      "metadata": {
        "id": "UHAwUq9Z7HyE",
        "outputId": "ec181111-0567-450a-c814-a796d3a826a3",
        "colab": {
          "base_uri": "https://localhost:8080/",
          "height": 34
        }
      },
      "source": [
        "from google.colab import drive\n",
        "drive.mount('/content/gdrive')"
      ],
      "execution_count": 1,
      "outputs": [
        {
          "output_type": "stream",
          "text": [
            "Mounted at /content/gdrive\n"
          ],
          "name": "stdout"
        }
      ]
    },
    {
      "cell_type": "code",
      "metadata": {
        "id": "HwXFZGFW7f79"
      },
      "source": [
        "from numpy import loadtxt\n",
        "from keras.models import model_from_json\n",
        "df=loadtxt('gdrive/My Drive/pima-indians-diabetes.csv',delimiter=',')"
      ],
      "execution_count": 2,
      "outputs": []
    },
    {
      "cell_type": "code",
      "metadata": {
        "id": "mfVCztbX7smX"
      },
      "source": [
        "x=df[:,0:8]\n",
        "y=df[:,8]"
      ],
      "execution_count": 4,
      "outputs": []
    },
    {
      "cell_type": "code",
      "metadata": {
        "id": "Jm4wd9Qy7yK-",
        "outputId": "7ed14dc1-4683-4179-cb42-84bae3079551",
        "colab": {
          "base_uri": "https://localhost:8080/",
          "height": 34
        }
      },
      "source": [
        "json_file=open('model5.json','r')\n",
        "loaded_model_json=json_file.read()\n",
        "json_file.close()\n",
        "model=model_from_json(loaded_model_json)\n",
        "model.load_weights('model5.h5')\n",
        "print(\"loaded model from disk\")"
      ],
      "execution_count": 7,
      "outputs": [
        {
          "output_type": "stream",
          "text": [
            "loaded model from disk\n"
          ],
          "name": "stdout"
        }
      ]
    },
    {
      "cell_type": "code",
      "metadata": {
        "id": "aB2Thq_5-GE8",
        "outputId": "2579c3d1-3114-4b6a-b770-c50e43afa8e4",
        "colab": {
          "base_uri": "https://localhost:8080/",
          "height": 153
        }
      },
      "source": [
        "predictions=model.predict_classes(x)\n",
        "for i in range(2,10):\n",
        "  print('Expected value is'+\" \"+str(predictions[i][0])+\" \"+\"==>\"+\" \"+'Actual Value is'+\" \"+str( int(y[i])))"
      ],
      "execution_count": 22,
      "outputs": [
        {
          "output_type": "stream",
          "text": [
            "Expected value is 1 ==> Actual Value is 1\n",
            "Expected value is 0 ==> Actual Value is 0\n",
            "Expected value is 1 ==> Actual Value is 1\n",
            "Expected value is 0 ==> Actual Value is 0\n",
            "Expected value is 0 ==> Actual Value is 1\n",
            "Expected value is 0 ==> Actual Value is 0\n",
            "Expected value is 1 ==> Actual Value is 1\n",
            "Expected value is 0 ==> Actual Value is 1\n"
          ],
          "name": "stdout"
        }
      ]
    },
    {
      "cell_type": "code",
      "metadata": {
        "id": "g2XEbEm-9cMj"
      },
      "source": [
        ""
      ],
      "execution_count": null,
      "outputs": []
    }
  ]
}